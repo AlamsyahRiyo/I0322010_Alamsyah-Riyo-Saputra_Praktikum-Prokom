{
 "cells": [
  {
   "cell_type": "code",
   "execution_count": 15,
   "metadata": {},
   "outputs": [
    {
     "name": "stdout",
     "output_type": "stream",
     "text": [
      "[67]\n",
      "jarak rumah yang paling jauh adalah;67\n",
      "jarak rumah yang paling dekat adalah;67\n",
      "Nilai dari mean adalah: 67.0\n"
     ]
    }
   ],
   "source": [
    "jarak_rumah = []\n",
    "nilai = input('Masukkan jarak rumahmu dan 2 temanmu ke kampus: ')\n",
    "jarak_rumah = nilai.split(',')\n",
    "\n",
    "angka_list = [int(nilai) for nilai in jarak_rumah]\n",
    "print(angka_list)\n",
    "\n",
    "#mencari nilai maksimal dan minimal\n",
    "print(f'jarak rumah yang paling jauh adalah;{max(angka_list)}')\n",
    "print(f'jarak rumah yang paling dekat adalah;{min(angka_list)}')\n",
    "\n",
    "#mencari nilai mean/rata rata\n",
    "mean = sum(angka_list)/len(angka_list)\n",
    "print(f'Nilai dari mean adalah: {mean}')\n",
    "\n",
    "\n"
   ]
  },
  {
   "cell_type": "code",
   "execution_count": 19,
   "metadata": {},
   "outputs": [
    {
     "name": "stdout",
     "output_type": "stream",
     "text": [
      "Hello\n",
      "world\n",
      "Hlowrd\n"
     ]
    }
   ],
   "source": [
    "#String \n",
    "string = \"Hello world\"\n",
    "print(string[0:5]) # Hello\n",
    "print(string[6:11]) # world\n",
    "print(string[0:11:2]) # Hloworld"
   ]
  },
  {
   "cell_type": "code",
   "execution_count": 26,
   "metadata": {},
   "outputs": [
    {
     "name": "stdout",
     "output_type": "stream",
     "text": [
      "False\n",
      "True\n",
      "False\n"
     ]
    }
   ],
   "source": [
    "#Boolean\n",
    "\n",
    "boolean1 = 6 > 4+5\n",
    "boolean2 = 15 == 15\n",
    "boolean3 =  00 > 6\n",
    "\n",
    "print(boolean1)\n",
    "print(boolean2)\n",
    "print(boolean3)"
   ]
  },
  {
   "cell_type": "code",
   "execution_count": 28,
   "metadata": {},
   "outputs": [
    {
     "name": "stdout",
     "output_type": "stream",
     "text": [
      "0b101\n"
     ]
    }
   ],
   "source": [
    "#Binary \n",
    "\n",
    "biner = bin(5)\n",
    "print(biner)"
   ]
  },
  {
   "cell_type": "code",
   "execution_count": 14,
   "metadata": {},
   "outputs": [
    {
     "name": "stdout",
     "output_type": "stream",
     "text": [
      "['program.c', 'stdio.h', 'sample.h', 'a.out', 'math.app', 'hpp.out']\n"
     ]
    }
   ],
   "source": [
    "filenames = [\"program.c\", \"stdio.hpp\", \"sample.hpp\", \"a.out\", \"math.app\", \"hpp.out\"]\n",
    "newfilenames = [filenames.replace(\".hpp\", \".h\") if filenames.endswith(\".hpp\") else filenames for filenames in filenames]\n",
    "print(newfilenames)"
   ]
  }
 ],
 "metadata": {
  "kernelspec": {
   "display_name": "Python 3",
   "language": "python",
   "name": "python3"
  },
  "language_info": {
   "codemirror_mode": {
    "name": "ipython",
    "version": 3
   },
   "file_extension": ".py",
   "mimetype": "text/x-python",
   "name": "python",
   "nbconvert_exporter": "python",
   "pygments_lexer": "ipython3",
   "version": "3.10.10"
  },
  "orig_nbformat": 4
 },
 "nbformat": 4,
 "nbformat_minor": 2
}
