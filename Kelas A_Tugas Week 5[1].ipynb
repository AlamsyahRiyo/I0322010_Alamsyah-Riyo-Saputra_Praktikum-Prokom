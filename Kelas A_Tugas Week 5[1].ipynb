{
 "cells": [
  {
   "attachments": {},
   "cell_type": "markdown",
   "metadata": {},
   "source": [
    "1. Buatlah program untuk menampilkan total penjumlahan bilangan ganjil dan total penjumlahan bilangan genap dengan input dari user berupa range (batas atas dan batas bawah)!"
   ]
  },
  {
   "cell_type": "code",
   "execution_count": 9,
   "metadata": {},
   "outputs": [
    {
     "name": "stdout",
     "output_type": "stream",
     "text": [
      "============================================================================\n",
      "Total penjumlahan bilangan ganjil =  25\n",
      "Total penjumlahan bilangan genap  =  20\n"
     ]
    }
   ],
   "source": [
    "batas_bawah = int(input(\"masukkan nilai batas bawah: \"))\n",
    "batas_atas  = int(input(\"masukkan nilai batas atas: \"))\n",
    "\n",
    "juml_ganjl = 0\n",
    "juml_gnp   = 0\n",
    "for i in range(batas_bawah, batas_atas + 1):\n",
    "    \n",
    "    if i % 2 == 0:\n",
    "        juml_gnp += i\n",
    "    else:\n",
    "        juml_ganjl += i\n",
    "\n",
    "\n",
    "print(\"============================================================================\")\n",
    "print(\"Total penjumlahan bilangan ganjil = \", juml_ganjl)\n",
    "print(\"Total penjumlahan bilangan genap  = \", juml_gnp)\n"
   ]
  },
  {
   "attachments": {},
   "cell_type": "markdown",
   "metadata": {},
   "source": [
    "2. Buatlah sebuah list yang berisi daftar makanan khas daerah (minimal 10 makanan termasuk makanan khas Solo). Kemudian buat program pencarian menggunakan pengulangan. Apabila nama makanan yang user inputkan sudah sesuai dengan isi list maka program akan berhenti dan menampilkan output \"(makanan yang diinput user) adalah makanan khas daerah\"."
   ]
  },
  {
   "cell_type": "code",
   "execution_count": 8,
   "metadata": {},
   "outputs": [
    {
     "name": "stdout",
     "output_type": "stream",
     "text": [
      "sate buntel bukan makanan khas daerah.\n"
     ]
    }
   ],
   "source": [
    "# list makanan\n",
    "makanankhas_daerah = [\"nasiliwet\",\"rendang\",\"miblacang\",\"kupattahu\",\"ketoprak\",\"mieongklok\",\"soto lamongan\",\"sate madura\",\"kerak telor\",\"timlo\"]\n",
    "\n",
    "namamakanan = input(\"masukkan nama makanan : \")\n",
    "\n",
    "for makanan in makanankhas_daerah:\n",
    "    if makanan.lower() == namamakanan.lower():\n",
    "        print(namamakanan + \" adalah makanan khas daerah.\")\n",
    "        break\n",
    "else:\n",
    "    print(namamakanan + \" bukan makanan khas daerah.\")"
   ]
  },
  {
   "attachments": {},
   "cell_type": "markdown",
   "metadata": {},
   "source": [
    "3. Buatlah program untuk menghitung rata-rata 7 bilangan dimana bilangan-bilangan tersebut didapat melalui input user!"
   ]
  },
  {
   "cell_type": "code",
   "execution_count": 2,
   "metadata": {},
   "outputs": [
    {
     "name": "stdout",
     "output_type": "stream",
     "text": [
      "jadi rata rata ketujuh bilangan tersebut yaitu = 29.6 \n"
     ]
    }
   ],
   "source": [
    "bil_1 = float(input(\"masukkan bilangan pertama: \"))\n",
    "bil_2 = float(input(\"masukkan bilangan kedua: \"))\n",
    "bil_3 = float(input(\"masukkan bilangan ketiga: \"))\n",
    "bil_4 = float(input(\"masukkan bilangan ke-empat: \"))\n",
    "bil_5 = float(input(\"masukkan bilangan ke-lima: \"))\n",
    "bil_6 = float(input(\"masukkan bilangan ke-enam: \"))\n",
    "bil_7 = float(input(\"masukkan bilangan ke-tujuh: \"))\n",
    "\n",
    "#operasi menghitung rata rata\n",
    "rata_rata = bil_1 + bil_2 + bil_3 + bil_4 + bil_5 + bil_6 + bil_7 / 7\n",
    "\n",
    "\n",
    "# hasil \n",
    "print(f'jadi rata rata ketujuh bilangan tersebut yaitu = {rata_rata} ')"
   ]
  }
 ],
 "metadata": {
  "kernelspec": {
   "display_name": "Python 3",
   "language": "python",
   "name": "python3"
  },
  "language_info": {
   "codemirror_mode": {
    "name": "ipython",
    "version": 3
   },
   "file_extension": ".py",
   "mimetype": "text/x-python",
   "name": "python",
   "nbconvert_exporter": "python",
   "pygments_lexer": "ipython3",
   "version": "3.10.11"
  },
  "orig_nbformat": 4
 },
 "nbformat": 4,
 "nbformat_minor": 2
}
