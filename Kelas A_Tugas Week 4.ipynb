{
 "cells": [
  {
   "cell_type": "code",
   "execution_count": null,
   "metadata": {},
   "outputs": [],
   "source": [
    "print(input(\"Nama: \"))\n",
    "print(input(\"NIM: \"))\n",
    "print(input(\"Kelas: \"))"
   ]
  },
  {
   "attachments": {},
   "cell_type": "markdown",
   "metadata": {},
   "source": [
    "## 1."
   ]
  },
  {
   "attachments": {},
   "cell_type": "markdown",
   "metadata": {},
   "source": [
    "Buatlah program persyaratan pembuatan SIM dengan input yaitu nama user, umur user, dan nilai tes user.<br>\n",
    "Dengan ketentuan mendapat SIM sebagai berikut:\n",
    "* Umur dari user harus lebih dari sama dengan 17 tahun\n",
    "* Nilai tes lebih dari sama dengan 70\n",
    "\n",
    "<br>Output yang dihasilkan dari program adalah:\n",
    "<br>\"Selamat Anda Berhak Mendapatkan SIM Anda\"\n",
    "<br>\"Maaf, Anda tidak berhak mendapatkan SIM anda\"\n",
    "> *note: Kerjakan soal ini dengan percabangan*"
   ]
  },
  {
   "cell_type": "code",
   "execution_count": 1,
   "metadata": {},
   "outputs": [
    {
     "name": "stdout",
     "output_type": "stream",
     "text": [
      "Selamat ryo Anda berhak mendapatkan SIM Anda.\n"
     ]
    }
   ],
   "source": [
    "# Kerjakan soal no 1 di sini\n",
    "\n",
    "# memasukkan input user\n",
    "nama  = input(\"Masukkan nama Anda: \")\n",
    "umur  = int(input(\"Masukkan umur Anda: \"))\n",
    "nilai = int(input(\"Masukkan nilai tes Anda: \"))\n",
    "\n",
    "# menggunakan percabangan if \n",
    "if umur >= 17 and nilai >= 70:\n",
    "    print(\"Selamat\", nama + \",\", \"Anda berhak mendapatkan SIM Anda.\")\n",
    "else:\n",
    "    print(\"Maaf,\", nama + \",\", \"Anda tidak berhak mendapatkan SIM Anda.\")"
   ]
  },
  {
   "attachments": {},
   "cell_type": "markdown",
   "metadata": {},
   "source": [
    "## 2."
   ]
  },
  {
   "attachments": {},
   "cell_type": "markdown",
   "metadata": {},
   "source": [
    "Buatlah program untuk mencari bilangan terbesar yang diinput dari user.<br>\n",
    "<br>Dengan ketentuan sebagai berikut:\n",
    "* Program nenerima 3 input bilangan dari user\n",
    "* Program akan menentukan mana bilangan terbesar\n",
    "* Output yang akan dihasilkan misalnya adalah \"Dari bil_1, bil_2, dan bil_3, bilangan terbesarnya adalah bilangan bil_2\"\n",
    "> *note: Kerjakan soal ini dengan percabangan*"
   ]
  },
  {
   "cell_type": "code",
   "execution_count": 2,
   "metadata": {},
   "outputs": [
    {
     "name": "stdout",
     "output_type": "stream",
     "text": [
      "Dari bilangan_1, bilangan_2, dan bilangan_3, bilangan terbesarnya adalah 87.0 yang terdapat pada bilangan kedua\n"
     ]
    }
   ],
   "source": [
    "# Kerjakan soal nomor 2 disini\n",
    "\n",
    "# Input dari 3 bilangan\n",
    "bilangan_1 = float(input(\"Masukkan bilangan pertama: \"))\n",
    "bilangan_2 = float(input(\"Masukkan bilangan kedua: \"))\n",
    "bilangan_3 = float(input(\"Masukkan bilangan ketiga: \"))\n",
    "\n",
    "# Menggunakan percabangan\n",
    "if bilangan_1 >= bilangan_2 and bilangan_1 >= bilangan_3:\n",
    "    terbesar = bilangan_1\n",
    "    posisi   = \"bilangan pertama\"\n",
    "elif bilangan_2 >= bilangan_1 and bilangan_2 >= bilangan_3:\n",
    "    terbesar = bilangan_2\n",
    "    posisi   = \"bilangan kedua\"\n",
    "else:\n",
    "    terbesar = bilangan_3\n",
    "    posisi   = \"bilangan ketiga\"\n",
    "\n",
    "# Output\n",
    "print(\"Dari bilangan_1, bilangan_2, dan bilangan_3, bilangan terbesarnya adalah\", terbesar, \"yang terdapat pada\", posisi)"
   ]
  }
 ],
 "metadata": {
  "kernelspec": {
   "display_name": "Python 3",
   "language": "python",
   "name": "python3"
  },
  "language_info": {
   "codemirror_mode": {
    "name": "ipython",
    "version": 3
   },
   "file_extension": ".py",
   "mimetype": "text/x-python",
   "name": "python",
   "nbconvert_exporter": "python",
   "pygments_lexer": "ipython3",
   "version": "3.10.10"
  },
  "orig_nbformat": 4
 },
 "nbformat": 4,
 "nbformat_minor": 2
}
