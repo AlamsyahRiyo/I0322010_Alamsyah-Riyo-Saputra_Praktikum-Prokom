{
 "cells": [
  {
   "cell_type": "code",
   "execution_count": null,
   "metadata": {},
   "outputs": [],
   "source": [
    "print(input(\"Nama: \"))\n",
    "print(input(\"NIM: \"))\n",
    "print(input(\"Kelas: \"))"
   ]
  },
  {
   "attachments": {},
   "cell_type": "markdown",
   "metadata": {},
   "source": [
    "## 1."
   ]
  },
  {
   "attachments": {},
   "cell_type": "markdown",
   "metadata": {},
   "source": [
    "buatlah program sederhana untuk menghitung umur pengguna dengan ketentuan sebagai berikut :\n",
    "* Program meminta pengguna memasukan tanggal, bulan, dan tahun lahir\n",
    "* Program menghitung umur pengguna hingga tanggal 1 januari 2023\n",
    "* Program menampilkan umur dari pengguna"
   ]
  },
  {
   "cell_type": "code",
   "execution_count": 24,
   "metadata": {},
   "outputs": [
    {
     "name": "stdout",
     "output_type": "stream",
     "text": [
      "Halo Alamsyah  Umur anda saat ini adalah :  18 Tahun\n"
     ]
    }
   ],
   "source": [
    "from datetime import date\n",
    "#nama pengguna\n",
    "nama = input (\"Masukkan Nama Anda? \")\n",
    "\n",
    "#tanggal lahir dari pengguna semuanya dalam angka\n",
    "Tanggal = int(input(\"Masukan tanggal lahir anda\"))\n",
    "Bulan = int(input(\"Masukan Bulan lahir anda\"))\n",
    "Tahun = int(input(\"Masukan tahun lahir anda\"))\n",
    "\n",
    "Tanggal_lahir = date(Tahun,Bulan,Tanggal)\n",
    "\n",
    "# tanggal aktual\n",
    "Tanggal_Diketahui = date(2023,1,1)\n",
    "\n",
    "# Rumus mencari umur\n",
    "Umur = Tanggal_Diketahui - Tanggal_lahir\n",
    "\n",
    "print( \"Halo\", nama , \"Umur anda saat ini adalah : \", Umur.days // 365, \"Tahun\")\n",
    "\n",
    "\n"
   ]
  },
  {
   "attachments": {},
   "cell_type": "markdown",
   "metadata": {},
   "source": [
    "## 2."
   ]
  },
  {
   "attachments": {},
   "cell_type": "markdown",
   "metadata": {},
   "source": [
    "Pada 2015, wabah flu burung menyerang Indonesia dan beberapa peternak ayam mengalami kerugian karena banyaknya ayam yang mati. Setiap bulan, jumlah ayamnya berkurang menjadi setengah. Setelah dua bulan, jumlah ayam yang tersisa adalah 200 ekor. Hitunglah jumlah ayam sebelumnya yang dimiliki peternak tersebut! (gunakan rumus deret geometri)\n",
    "\n",
    "> *note: SOAL DIATAS DIKERJAKAN SESUAI DENGAN RUMUS BAKU*"
   ]
  },
  {
   "cell_type": "code",
   "execution_count": 6,
   "metadata": {},
   "outputs": [
    {
     "name": "stdout",
     "output_type": "stream",
     "text": [
      "Diketahui setelah 2 bulan flu burung , Jumlah ayam yang tersisa sejumlah 200 ayam\n",
      "=====Hasil Perhitungan======\n",
      "jumlah yang yang dimiliki sebelum flu burung adalah sejumlah 800.0 ayam\n"
     ]
    }
   ],
   "source": [
    "# Barisan Geometri\n",
    "\n",
    "sisa = 200\n",
    "Bulan = 2\n",
    "r = 1/2\n",
    "\n",
    "print( f\"Diketahui setelah {Bulan} bulan flu burung , Jumlah ayam yang tersisa sejumlah {sisa} ayam\")\n",
    "\n",
    "# Rumus \n",
    "\n",
    "Jumlah_Sebelumnya = sisa/(r**(Bulan))\n",
    "\n",
    "\n",
    "print(\"=====Hasil Perhitungan======\")\n",
    "\n",
    "print(f'jumlah yang yang dimiliki sebelum flu burung adalah sejumlah {Jumlah_Sebelumnya} ayam')\n"
   ]
  },
  {
   "attachments": {},
   "cell_type": "markdown",
   "metadata": {},
   "source": [
    "## 3. "
   ]
  },
  {
   "attachments": {},
   "cell_type": "markdown",
   "metadata": {},
   "source": [
    "* **A** Hitunglah luas Prisma Segitiga dengan ketentuan sebagai berikut:\n",
    "    * Alas dan tutup prisma merupakan segitiga\n",
    "    * Terdapat 3 persegi panjang yang menyinggung alas dan tutup prisma\n",
    "    * Sisi persegi panjang yang menyinggung segitiga adalah sisi lebar\n",
    "```python\n",
    "    dictionary_figure = {\"Persegi\":{\"Sisi\":22},\n",
    "                        \"Persegi Panjang\":{\"Panjang\":10,\"Lebar\":5},\n",
    "                        \"Segitiga Sama Sisi\":{\"Sisi\":6,\"Tinggi\":3**(1/2) * 3},\n",
    "                        \"Lingkaran\":{\"Diameter\":7}}\n",
    "```\n",
    "* **B** Hitunglah luas Tabung dengan ketentuan sebagai berikut:\n",
    "    * Alas dan tutup tabung merupakan lingkaran\n",
    "    * Terdapat 1 persegi yang menyinggung alas dan tutup tabung\n",
    "    * Persegi yang ada mengelilingi lingkaran hingga sisi dari persegi saling bertemu\n",
    "\n",
    "> *note: Pada soal ini kalian hanya boleh menggunakan key-value pair dan index pada list. Tidak diperbolehkan menulis secara langsung dimensi dari figure*"
   ]
  },
  {
   "cell_type": "code",
   "execution_count": 4,
   "metadata": {},
   "outputs": [
    {
     "name": "stdout",
     "output_type": "stream",
     "text": [
      "Luas permukan prisma segitiga : 171.6506351\n",
      "Luas permukaan tabung 560.5796357\n"
     ]
    }
   ],
   "source": [
    "dictionary_figure = {\"Persegi\":{\"Sisi\":22},\n",
    "                        \"Persegi Panjang\":{\"Panjang\":10,\"Lebar\":5},\n",
    "                        \"Segitiga Sama Sisi\":{\"Sisi\":6,\"Tinggi\":3**(1/2) * 3},\n",
    "                        \"Lingkaran\":{\"Diameter\":7}}\n",
    "\n",
    "#program luas permukaan prisma\n",
    "def LP_Prisma_Segitiga(sisi_segitiga,lebar_persegi,panjang_persegi):\n",
    "    luaspermukaan = 2 *(sisi_segitiga**2)*(3**.5) /4 + 3 * lebar_persegi * panjang_persegi\n",
    "    return luaspermukaan  \n",
    "\n",
    "\n",
    "from math import pi\n",
    "def LP_Tabung(diameter, tinggi):\n",
    "    luaspermukaan = 2 *(pi *diameter**2/4) + diameter*pi*tinggi\n",
    "    return luaspermukaan\n",
    "\n",
    "lebar_persegi = dictionary_figure[\"Persegi Panjang\"][\"Lebar\"]\n",
    "panjang_persegi = dictionary_figure[\"Persegi Panjang\"][\"Panjang\"]\n",
    "sisi_segitiga = lebar_persegi\n",
    "\n",
    "print(f\"Luas permukan prisma segitiga : {LP_Prisma_Segitiga(sisi_segitiga , lebar_persegi, panjang_persegi):.7f}\")\n",
    "\n",
    "diameter = dictionary_figure[\"Lingkaran\"][\"Diameter\"]\n",
    "tinggi = diameter * pi \n",
    "print(f\"Luas permukaan tabung \\\n",
    "{LP_Tabung(diameter,tinggi):.7f}\")\n"
   ]
  }
 ],
 "metadata": {
  "kernelspec": {
   "display_name": "Python 3",
   "language": "python",
   "name": "python3"
  },
  "language_info": {
   "codemirror_mode": {
    "name": "ipython",
    "version": 3
   },
   "file_extension": ".py",
   "mimetype": "text/x-python",
   "name": "python",
   "nbconvert_exporter": "python",
   "pygments_lexer": "ipython3",
   "version": "3.10.11"
  },
  "orig_nbformat": 4,
  "vscode": {
   "interpreter": {
    "hash": "5addf786bcd861d1ce5006f23111f8cbb206731e5b61b0a5632ba9e0252558a8"
   }
  }
 },
 "nbformat": 4,
 "nbformat_minor": 2
}
